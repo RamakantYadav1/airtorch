{
 "cells": [
  {
   "cell_type": "code",
   "execution_count": null,
   "id": "38bf84b2-763a-4f4b-ad52-89c5d721c279",
   "metadata": {},
   "outputs": [],
   "source": [
    "with open(\"data.zip\", \"wb\") as file:\n",
    "    file.write(request.content)\n",
    "    \n",
    "#Unzip data\n",
    "with zipfile.Zipfile('data.zip') as zip:\n",
    "    zip.extractall('data')"
   ]
  },
  {
   "cell_type": "code",
   "execution_count": null,
   "id": "93816c80-028f-44b4-87ad-6987b874126c",
   "metadata": {},
   "outputs": [],
   "source": [
    "# Load data and set labels\n",
    "data_compliant = pd.read_csv('data/compliant1700.csv')\n",
    "data_compliant['label'] = 0\n",
    "data_non_compliant = pd.read_csv('data/noncompliant1700.csv')\n",
    "data_non_compliant['label'] = 1\n",
    "\n",
    "\n",
    "#Concatenate complaining and non-complaining data\n",
    "data = pd.concat([data_compliant, data_non_compliant], axis=0).reset_index(drop=True)\n",
    "\n",
    "\n",
    "#Drop airline column\n",
    "data.drop(['airline'], inplace=True, axis=1)\n",
    "\n",
    "\n",
    "#Display S random samples\n",
    "data.samples(5)"
   ]
  },
  {
   "cell_type": "code",
   "execution_count": null,
   "id": "73a2c18d-c0ac-4c62-9703-555ed9cd668b",
   "metadata": {},
   "outputs": [],
   "source": [
    "var abc = \"hello\"\n",
    "var abc = \"world\""
   ]
  }
 ],
 "metadata": {
  "kernelspec": {
   "display_name": "Python 3 (ipykernel)",
   "language": "python",
   "name": "python3"
  },
  "language_info": {
   "codemirror_mode": {
    "name": "ipython",
    "version": 3
   },
   "file_extension": ".py",
   "mimetype": "text/x-python",
   "name": "python",
   "nbconvert_exporter": "python",
   "pygments_lexer": "ipython3",
   "version": "3.10.8"
  }
 },
 "nbformat": 4,
 "nbformat_minor": 5
}
